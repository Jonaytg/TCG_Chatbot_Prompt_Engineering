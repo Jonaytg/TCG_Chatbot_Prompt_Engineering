{
  "nbformat": 4,
  "nbformat_minor": 0,
  "metadata": {
    "colab": {
      "provenance": []
    },
    "kernelspec": {
      "name": "python3",
      "display_name": "Python 3"
    },
    "language_info": {
      "name": "python"
    }
  },
  "cells": [
    {
      "cell_type": "markdown",
      "source": [
        "# 1. Creación de un Prompt\n"
      ],
      "metadata": {
        "id": "yPmCqGzSbh-I"
      }
    },
    {
      "cell_type": "markdown",
      "source": [
        "## Objetivo del Prompt:\n"
      ],
      "metadata": {
        "id": "jTmuHGBCdI0Y"
      }
    },
    {
      "cell_type": "markdown",
      "source": [
        "\n",
        "En mi tiempo libre me dedico a coleccionar cartas de Pokémon TCG, para lo cual estoy constantemente buscando y comparando precios de las cartas en diferentes plataformas como TCGplayer o PriceCharting. Además, también pierdo mucho tiempo buscando la probabilidad de que salga cada carta en los sobres, así como información acerca de la colección a la que pertenece."
      ],
      "metadata": {
        "id": "BIAuX3cZeDja"
      }
    },
    {
      "cell_type": "markdown",
      "source": [
        "Por ello, mi intención es crear un prompt cuya entrada sea el nombre del pokemon, numeración y colección a la que pertenece, y cuyo output sea información relevante de la colección a la que pertenece, precios de venta de dicha carta en función de su grade y su pullrate."
      ],
      "metadata": {
        "id": "wp_UPjdw__N7"
      }
    },
    {
      "cell_type": "markdown",
      "source": [
        "## Redacción del prompt:\n"      ],
      "metadata": {
        "id": "GpIbEM0heMrL"
      }
    },
    {
      "cell_type": "markdown",
      "source": [
        "Actúa como un experto en coleccionismo de Pokémon TCG. Busca el valor de mercado en dólares de la carta solicitada y la probabilidad de pullrate de que salga en un sobre. Dame una respuesta que cumpla el siguiente formato:\n",
        "1. Una breve información sobre la expansión a la que pertenece la carta: nombre, fecha de lanzamiento, impresión aproximada, número de cartas que componen la colección, etc.\n",
        "2. Una tabla donde aparezcan el precio y el pullrate.\n",
        "\n",
        "Un ejemplo de respuesta para el Charizard ex 199/165 de la colección 151 sería el siguiente:\n",
        "\n",
        "La carta Charizard ex 199/165 pertenece a la expansión Scarlet & Violet—151 del Juego de Cartas Coleccionables Pokémon. A continuación, se proporciona información relevante sobre esta expansión:\n",
        "\n",
        "1. Información sobre la expansión:\n",
        "\n",
        "Nombre: Scarlet & Violet—151\n",
        "Fecha de lanzamiento: 22 de septiembre de 2023\n",
        "Número de cartas en la colección: 165 cartas regulares más cartas secretas, totalizando más de 200 cartas\n",
        "Características destacadas: Esta expansión celebra los 151 Pokémon originales de la región de Kanto, presentando ilustraciones especiales y cartas raras de Pokémon emblemáticos.\n",
        "\n",
        "2. Tabla de precios y pullrate del Charizard ex 199/165:\n",
        "\n",
        "Estado de la carta | Precio estimado (USD) | Probabilidad de aparición en un sobre\n",
        "Sin gradear\t| $209.99\t| 0.44%"
      ],
      "metadata": {
        "id": "JYrEdrGWdN_M"
      }
    },
    {
      "cell_type": "markdown",
      "source": [
        "# 2. Solución al problema\n"
      ],
      "metadata": {
        "id": "ZA0VXPTUdE8t"
      }
    },
    {
      "cell_type": "code",
      "execution_count": 1,
      "metadata": {
        "colab": {
          "base_uri": "https://localhost:8080/"
        },
        "id": "DssGusBbYVUU",
        "outputId": "f02866f6-b6e1-4941-88d7-274b0a9e1c14"
      },
      "outputs": [
        {
          "output_type": "stream",
          "name": "stdout",
          "text": [
            "Requirement already satisfied: langchain in /usr/local/lib/python3.10/dist-packages (0.3.12)\n",
            "Requirement already satisfied: langchain-openai in /usr/local/lib/python3.10/dist-packages (0.2.14)\n",
            "Requirement already satisfied: PyYAML>=5.3 in /usr/local/lib/python3.10/dist-packages (from langchain) (6.0.2)\n",
            "Requirement already satisfied: SQLAlchemy<3,>=1.4 in /usr/local/lib/python3.10/dist-packages (from langchain) (2.0.36)\n",
            "Requirement already satisfied: aiohttp<4.0.0,>=3.8.3 in /usr/local/lib/python3.10/dist-packages (from langchain) (3.11.10)\n",
            "Requirement already satisfied: async-timeout<5.0.0,>=4.0.0 in /usr/local/lib/python3.10/dist-packages (from langchain) (4.0.3)\n",
            "Requirement already satisfied: langchain-core<0.4.0,>=0.3.25 in /usr/local/lib/python3.10/dist-packages (from langchain) (0.3.28)\n",
            "Requirement already satisfied: langchain-text-splitters<0.4.0,>=0.3.3 in /usr/local/lib/python3.10/dist-packages (from langchain) (0.3.3)\n",
            "Requirement already satisfied: langsmith<0.3,>=0.1.17 in /usr/local/lib/python3.10/dist-packages (from langchain) (0.2.3)\n",
            "Requirement already satisfied: numpy<2,>=1.22.4 in /usr/local/lib/python3.10/dist-packages (from langchain) (1.26.4)\n",
            "Requirement already satisfied: pydantic<3.0.0,>=2.7.4 in /usr/local/lib/python3.10/dist-packages (from langchain) (2.10.3)\n",
            "Requirement already satisfied: requests<3,>=2 in /usr/local/lib/python3.10/dist-packages (from langchain) (2.32.3)\n",
            "Requirement already satisfied: tenacity!=8.4.0,<10,>=8.1.0 in /usr/local/lib/python3.10/dist-packages (from langchain) (9.0.0)\n",
            "Requirement already satisfied: openai<2.0.0,>=1.58.1 in /usr/local/lib/python3.10/dist-packages (from langchain-openai) (1.58.1)\n",
            "Requirement already satisfied: tiktoken<1,>=0.7 in /usr/local/lib/python3.10/dist-packages (from langchain-openai) (0.8.0)\n",
            "Requirement already satisfied: aiohappyeyeballs>=2.3.0 in /usr/local/lib/python3.10/dist-packages (from aiohttp<4.0.0,>=3.8.3->langchain) (2.4.4)\n",
            "Requirement already satisfied: aiosignal>=1.1.2 in /usr/local/lib/python3.10/dist-packages (from aiohttp<4.0.0,>=3.8.3->langchain) (1.3.2)\n",
            "Requirement already satisfied: attrs>=17.3.0 in /usr/local/lib/python3.10/dist-packages (from aiohttp<4.0.0,>=3.8.3->langchain) (24.3.0)\n",
            "Requirement already satisfied: frozenlist>=1.1.1 in /usr/local/lib/python3.10/dist-packages (from aiohttp<4.0.0,>=3.8.3->langchain) (1.5.0)\n",
            "Requirement already satisfied: multidict<7.0,>=4.5 in /usr/local/lib/python3.10/dist-packages (from aiohttp<4.0.0,>=3.8.3->langchain) (6.1.0)\n",
            "Requirement already satisfied: propcache>=0.2.0 in /usr/local/lib/python3.10/dist-packages (from aiohttp<4.0.0,>=3.8.3->langchain) (0.2.1)\n",
            "Requirement already satisfied: yarl<2.0,>=1.17.0 in /usr/local/lib/python3.10/dist-packages (from aiohttp<4.0.0,>=3.8.3->langchain) (1.18.3)\n",
            "Requirement already satisfied: jsonpatch<2.0,>=1.33 in /usr/local/lib/python3.10/dist-packages (from langchain-core<0.4.0,>=0.3.25->langchain) (1.33)\n",
            "Requirement already satisfied: packaging<25,>=23.2 in /usr/local/lib/python3.10/dist-packages (from langchain-core<0.4.0,>=0.3.25->langchain) (24.2)\n",
            "Requirement already satisfied: typing-extensions>=4.7 in /usr/local/lib/python3.10/dist-packages (from langchain-core<0.4.0,>=0.3.25->langchain) (4.12.2)\n",
            "Requirement already satisfied: httpx<1,>=0.23.0 in /usr/local/lib/python3.10/dist-packages (from langsmith<0.3,>=0.1.17->langchain) (0.28.1)\n",
            "Requirement already satisfied: orjson<4.0.0,>=3.9.14 in /usr/local/lib/python3.10/dist-packages (from langsmith<0.3,>=0.1.17->langchain) (3.10.12)\n",
            "Requirement already satisfied: requests-toolbelt<2.0.0,>=1.0.0 in /usr/local/lib/python3.10/dist-packages (from langsmith<0.3,>=0.1.17->langchain) (1.0.0)\n",
            "Requirement already satisfied: anyio<5,>=3.5.0 in /usr/local/lib/python3.10/dist-packages (from openai<2.0.0,>=1.58.1->langchain-openai) (3.7.1)\n",
            "Requirement already satisfied: distro<2,>=1.7.0 in /usr/local/lib/python3.10/dist-packages (from openai<2.0.0,>=1.58.1->langchain-openai) (1.9.0)\n",
            "Requirement already satisfied: jiter<1,>=0.4.0 in /usr/local/lib/python3.10/dist-packages (from openai<2.0.0,>=1.58.1->langchain-openai) (0.8.2)\n",
            "Requirement already satisfied: sniffio in /usr/local/lib/python3.10/dist-packages (from openai<2.0.0,>=1.58.1->langchain-openai) (1.3.1)\n",
            "Requirement already satisfied: tqdm>4 in /usr/local/lib/python3.10/dist-packages (from openai<2.0.0,>=1.58.1->langchain-openai) (4.67.1)\n",
            "Requirement already satisfied: annotated-types>=0.6.0 in /usr/local/lib/python3.10/dist-packages (from pydantic<3.0.0,>=2.7.4->langchain) (0.7.0)\n",
            "Requirement already satisfied: pydantic-core==2.27.1 in /usr/local/lib/python3.10/dist-packages (from pydantic<3.0.0,>=2.7.4->langchain) (2.27.1)\n",
            "Requirement already satisfied: charset-normalizer<4,>=2 in /usr/local/lib/python3.10/dist-packages (from requests<3,>=2->langchain) (3.4.0)\n",
            "Requirement already satisfied: idna<4,>=2.5 in /usr/local/lib/python3.10/dist-packages (from requests<3,>=2->langchain) (3.10)\n",
            "Requirement already satisfied: urllib3<3,>=1.21.1 in /usr/local/lib/python3.10/dist-packages (from requests<3,>=2->langchain) (2.2.3)\n",
            "Requirement already satisfied: certifi>=2017.4.17 in /usr/local/lib/python3.10/dist-packages (from requests<3,>=2->langchain) (2024.12.14)\n",
            "Requirement already satisfied: greenlet!=0.4.17 in /usr/local/lib/python3.10/dist-packages (from SQLAlchemy<3,>=1.4->langchain) (3.1.1)\n",
            "Requirement already satisfied: regex>=2022.1.18 in /usr/local/lib/python3.10/dist-packages (from tiktoken<1,>=0.7->langchain-openai) (2024.11.6)\n",
            "Requirement already satisfied: exceptiongroup in /usr/local/lib/python3.10/dist-packages (from anyio<5,>=3.5.0->openai<2.0.0,>=1.58.1->langchain-openai) (1.2.2)\n",
            "Requirement already satisfied: httpcore==1.* in /usr/local/lib/python3.10/dist-packages (from httpx<1,>=0.23.0->langsmith<0.3,>=0.1.17->langchain) (1.0.7)\n",
            "Requirement already satisfied: h11<0.15,>=0.13 in /usr/local/lib/python3.10/dist-packages (from httpcore==1.*->httpx<1,>=0.23.0->langsmith<0.3,>=0.1.17->langchain) (0.14.0)\n",
            "Requirement already satisfied: jsonpointer>=1.9 in /usr/local/lib/python3.10/dist-packages (from jsonpatch<2.0,>=1.33->langchain-core<0.4.0,>=0.3.25->langchain) (3.0.0)\n"
          ]
        }
      ],
      "source": [
        "pip install langchain langchain-openai"
      ]
    },
    {
      "cell_type": "markdown",
      "source": [
        "# 2.1. Modelo A"
      ],
      "metadata": {
        "id": "2-PlGFyz2WWo"
      }
    },
    {
      "cell_type": "code",
      "source": [
        "openai_api_key=\"\""
      ],
      "metadata": {
        "id": "5hSCcqzjAf1p"
      },
      "execution_count": 2,
      "outputs": []
    },
    {
      "cell_type": "code",
      "source": [
        "from langchain_openai import ChatOpenAI\n",
        "from langchain.chains import LLMChain, SimpleSequentialChain\n",
        "from langchain import PromptTemplate\n",
        "\n",
        "# Configuramos el modelo LLM\n",
        "llm = ChatOpenAI(temperature=0.0, model=\"gpt-4o\", api_key = openai_api_key)"
      ],
      "metadata": {
        "id": "iJdhMwo8AmcY"
      },
      "execution_count": 3,
      "outputs": []
    },
    {
      "cell_type": "code",
      "source": [
        "plantilla = \"\"\"Actúa como un experto en coleccionismo de Pokémon TCG. Busca el valor de mercado en dólares del {Carta_Pokémon} y la probabilidad de pullrate de que salga en un sobre. Dame una respuesta que cumpla el siguiente formato:\n",
        "1. Una breve información sobre la expansión a la que pertenece la carta: nombre, fecha de lanzamiento, impresión aproximada, número de cartas que componen la colección, etc.\n",
        "2. Una tabla donde aparezcan el precio y el pullrate.\n",
        "\n",
        "Un ejemplo de respuesta para el \"Pikachu ex 238/191\" de la colección \"Surging Sparks\" sería el siguiente:\n",
        "\n",
        "La carta Pikachu ex 238/191 pertenece a la expansión Scarlet & Violet—Surging Sparks del Juego de Cartas Coleccionables Pokémon. A continuación, se proporciona información relevante sobre esta expansión:\n",
        "\n",
        "1. Información sobre la expansión:\n",
        "\n",
        "Nombre: Scarlet & Violet—Surging Sparks\n",
        "Fecha de lanzamiento: 8 de noviembre de 2024\n",
        "Número de cartas en la colección: 191 cartas regulares más cartas secretas, totalizando más de 200 cartas\n",
        "Características destacadas: Esta expansión introduce nuevas mecánicas de juego y presenta ilustraciones especiales de Pokémon populares, incluyendo cartas raras y de arte especial.\n",
        "\n",
        "2. Tabla de precios y pullrate del Pikachu ex 238/191:\n",
        "\n",
        "Estado de la carta |\tPrecio estimado (USD) |\tProbabilidad de aparición en un sobre\n",
        "Sin gradear |\t$458.54 |\t0.10% \"\"\"\n",
        "\n",
        "# Creamos la plantilla\n",
        "prompt_template = PromptTemplate.from_template(plantilla)\n",
        "\n",
        "# Formateamos el prompt\n",
        "Carta_Pokémon = \"Greninja 214/167 de Twilight Masquerade\"\n",
        "prompt = prompt_template.format(Carta_Pokémon = Carta_Pokémon)\n",
        "\n",
        "# Generamos la respuesta\n",
        "respuesta = llm(prompt)\n",
        "print (respuesta)"
      ],
      "metadata": {
        "colab": {
          "base_uri": "https://localhost:8080/"
        },
        "id": "Um97CN8SBVxF",
        "outputId": "95ee7dc6-0309-4bbe-85ac-7936dff1d555"
      },
      "execution_count": 4,
      "outputs": [
        {
          "output_type": "stream",
          "name": "stderr",
          "text": [
            "<ipython-input-4-e679b76c12cc>:29: LangChainDeprecationWarning: The method `BaseChatModel.__call__` was deprecated in langchain-core 0.1.7 and will be removed in 1.0. Use :meth:`~invoke` instead.\n",
            "  respuesta = llm(prompt)\n"
          ]
        },
        {
          "output_type": "stream",
          "name": "stdout",
          "text": [
            "content='La carta Greninja 214/167 pertenece a la expansión Twilight Masquerade del Juego de Cartas Coleccionables Pokémon. A continuación, se proporciona información relevante sobre esta expansión:\\n\\n1. Información sobre la expansión:\\n\\nNombre: Twilight Masquerade  \\nFecha de lanzamiento: 15 de marzo de 2023  \\nNúmero de cartas en la colección: 167 cartas regulares más cartas secretas, totalizando más de 200 cartas  \\nCaracterísticas destacadas: Esta expansión se centra en Pokémon de tipo Fantasma y Siniestro, con ilustraciones temáticas de eventos nocturnos y festivales. Incluye cartas raras y de arte especial que son muy buscadas por los coleccionistas.\\n\\n2. Tabla de precios y pullrate del Greninja 214/167:\\n\\n| Estado de la carta | Precio estimado (USD) | Probabilidad de aparición en un sobre |\\n|--------------------|-----------------------|--------------------------------------|\\n| Sin gradear        | $350.00               | 0.05%                                |\\n\\nEsta información es aproximada y puede variar según el mercado y la demanda actual.' additional_kwargs={'refusal': None} response_metadata={'token_usage': {'completion_tokens': 225, 'prompt_tokens': 324, 'total_tokens': 549, 'completion_tokens_details': {'accepted_prediction_tokens': 0, 'audio_tokens': 0, 'reasoning_tokens': 0, 'rejected_prediction_tokens': 0}, 'prompt_tokens_details': {'audio_tokens': 0, 'cached_tokens': 0}}, 'model_name': 'gpt-4o-2024-08-06', 'system_fingerprint': 'fp_d28bcae782', 'finish_reason': 'stop', 'logprobs': None} id='run-d3f645b3-1a33-4583-b810-1d705be8442e-0' usage_metadata={'input_tokens': 324, 'output_tokens': 225, 'total_tokens': 549, 'input_token_details': {'audio': 0, 'cache_read': 0}, 'output_token_details': {'audio': 0, 'reasoning': 0}}\n"
          ]
        }
      ]
    },
    {
      "cell_type": "markdown",
      "source": [
        "# 2.2. Modelo B"
      ],
      "metadata": {
        "id": "rHWz7D1HCHJg"
      }
    },
    {
      "cell_type": "markdown",
      "source": [
        "En este caso he querido solicitar al modelo un listado de las 5 cartas más buscadas de cada set, para luego utilizar el resultado como input y de nuevo solicitar una tabla con los precios y pullrate de cada una de ellas."
      ],
      "metadata": {
        "id": "JhWT8yKgCJ0O"
      }
    },
    {
      "cell_type": "markdown",
      "source": [
        "## Redacción del primer prompt:"
      ],
      "metadata": {
        "id": "R5Rw0kdeF9lI"
      }
    },
    {
      "cell_type": "markdown",
      "source": [
        "Actúa como un experto en coleccionismo de Pokémon TCG. Investiga las cartas más buscadas por los coleccionistas de Pokémon TCG de la expansión solicitada. Como respuesta dame únicamente los 5 nombres de las cartas con su numeración.\n",
        "\n",
        "Un ejemplo de respuesta para la expansión de 151 sería el siguiente:\n",
        "\n",
        "\"Charizard ex 199/165, Blastoise ex 200/165, Venusaur ex 198/165, Zapdos ex 202/165, Charmander 168/165\""
      ],
      "metadata": {
        "id": "9cUujaHtEFK-"
      }
    },
    {
      "cell_type": "code",
      "source": [
        "# Creamos la primera plantilla\n",
        "primera_plantilla = \"\"\"Actúa como un experto en coleccionismo de Pokémon TCG. Investiga las cartas más buscadas por los coleccionistas de Pokémon TCG de la expansión de {Expansión_Pokémon}. Como respuesta dame únicamente los 5 nombres de las cartas con su numeración.\n",
        "\n",
        "Un ejemplo de respuesta para la expansión de 151 sería el siguiente:\n",
        "\n",
        "\"Charizard ex 199/165, Blastoise ex 200/165, Venusaur ex 198/165, Zapdos ex 202/165, Charmander 168/165\" \"\"\"\n",
        "\n",
        "primer_prompt = PromptTemplate(\n",
        "    input_variables=[\"Expansión_Pokémon\"],\n",
        "    template=primera_plantilla\n",
        ")\n",
        "\n",
        "# Creamos la primera cadena\n",
        "cadena_uno = LLMChain(llm=llm, prompt=primer_prompt)"
      ],
      "metadata": {
        "id": "E2tqfVq3CJIM",
        "colab": {
          "base_uri": "https://localhost:8080/"
        },
        "outputId": "09215082-0dc4-4adc-f9a7-75924daac3a3"
      },
      "execution_count": 5,
      "outputs": [
        {
          "output_type": "stream",
          "name": "stderr",
          "text": [
            "<ipython-input-5-2882fc84ce18>:14: LangChainDeprecationWarning: The class `LLMChain` was deprecated in LangChain 0.1.17 and will be removed in 1.0. Use :meth:`~RunnableSequence, e.g., `prompt | llm`` instead.\n",
            "  cadena_uno = LLMChain(llm=llm, prompt=primer_prompt)\n"
          ]
        }
      ]
    },
    {
      "cell_type": "markdown",
      "source": [
        "## Redacción del segundo prompt:"
      ],
      "metadata": {
        "id": "tjZPvV1u3CYk"
      }
    },
    {
      "cell_type": "markdown",
      "source": [
        "Actúa como un experto en coleccionismo de Pokémon TCG. Busca el valor de mercado en dólares y la probabilidad de pullrate de que salga en un sobre las 5 cartas seleccionadas. Dame una respuesta que cumpla el siguiente formato:\n",
        "1. Una breve información sobre la expansión a la que pertenecen las cartas: nombre, fecha de lanzamiento, impresión aproximada, número de cartas que componen la colección, etc.\n",
        "2. Una tabla donde aparezcan los cinco Pokémon con el precio y el pullrate.\n",
        "\n",
        "Un ejemplo de respuesta para Charizard ex 199/165, Blastoise ex 200/165, Venusaur ex 198/165, Zapdos ex 202/165, Charmander 168/165 de la expansión 151 sería el siguiente:\n",
        "\n",
        "La expansión Escarlata y Púrpura-151 del Juego de Cartas Coleccionables Pokémon se lanzó el 22 de septiembre de 2023. Esta colección especial incluye a los 151 Pokémon originales de la región de Kanto, actualizados con las mecánicas de la serie Escarlata y Púrpura.\n",
        "\n",
        "A continuación, se presenta una tabla con las cinco cartas más destacadas de esta expansión, junto con su valor de mercado estimado en dólares estadounidenses y la probabilidad aproximada de obtenerlas en un sobre (pull rate):\n",
        "\n",
        "Carta\tNúmero | Valor de Mercado (USD) | Pull Rate Estimado\n",
        "Charizard ex\t199/165 |\t$121.47 |\t1 en 94 sobres\n",
        "Blastoise ex\t200/165\t| $77.25 |\t1 en 71 sobres\n",
        "Venusaur ex\t198/165\t| $76.69 |\t1 en 283 sobres\n",
        "Zapdos ex\t202/165\t| $55.31 |\tDatos no disponibles\n",
        "Charmander\t168/165\t| $50.98 |\tDatos no disponibles"
      ],
      "metadata": {
        "id": "b4Cv0TC_3DBp"
      }
    },
    {
      "cell_type": "code",
      "source": [
        "# Creamos la segunda plantilla\n",
        "segunda_plantilla= \"\"\" Actúa como un experto en coleccionismo de Pokémon TCG. Busca el valor de mercado en dólares y la probabilidad de pullrate de que salga en un sobre las 5 cartas: {Cartas_Pokémon}. Dame una respuesta que cumpla el siguiente formato:\n",
        "1. Una breve información sobre la expansión a la que pertenecen las cartas: nombre, fecha de lanzamiento, impresión aproximada, número de cartas que componen la colección, etc.\n",
        "2. Una tabla donde aparezcan los cinco Pokémon con el precio y el pullrate.\n",
        "\n",
        "Un ejemplo de respuesta para Charizard ex 199/165, Blastoise ex 200/165, Venusaur ex 198/165, Zapdos ex 202/165, Charmander 168/165 de la expansión 151 sería el siguiente:\n",
        "\n",
        "La expansión Escarlata y Púrpura-151 del Juego de Cartas Coleccionables Pokémon se lanzó el 22 de septiembre de 2023. Esta colección especial incluye a los 151 Pokémon originales de la región de Kanto, actualizados con las mecánicas de la serie Escarlata y Púrpura.\n",
        "\n",
        "A continuación, se presenta una tabla con las cinco cartas más destacadas de esta expansión, junto con su valor de mercado estimado en dólares estadounidenses y la probabilidad aproximada de obtenerlas en un sobre (pull rate):\n",
        "\n",
        "Carta\tNúmero | Valor de Mercado (USD) | Pull Rate Estimado\n",
        "Charizard ex\t199/165 |\t$121.47 |\t1 en 94 sobres\n",
        "Blastoise ex\t200/165\t| $77.25 |\t1 en 71 sobres\n",
        "Venusaur ex\t198/165\t| $76.69 |\t1 en 283 sobres\n",
        "Zapdos ex\t202/165\t| $55.31 |\tDatos no disponibles\n",
        "Charmander\t168/165\t| $50.98 |\tDatos no disponibles \"\"\"\n",
        "\n",
        "segundo_prompt = PromptTemplate(\n",
        "    input_variables=[\"Cartas_Pokémon\"],\n",
        "    template=segunda_plantilla\n",
        ")\n",
        "\n",
        "# Creamos la segunda cadena\n",
        "cadena_dos = LLMChain(llm=llm, prompt=segundo_prompt)"
      ],
      "metadata": {
        "id": "JFe1HaxsG7eW"
      },
      "execution_count": 6,
      "outputs": []
    },
    {
      "cell_type": "code",
      "source": [
        "# Conectamos las cadenas\n",
        "\n",
        "cadena_general = SimpleSequentialChain(chains=[cadena_uno, cadena_dos], verbose=True)\n",
        "Expansión_Pokémon = \"Crown Zenith\"\n",
        "\n",
        "respuesta_final = cadena_general.run(Expansión_Pokémon)"
      ],
      "metadata": {
        "colab": {
          "base_uri": "https://localhost:8080/"
        },
        "id": "7EXyBPUkwk3T",
        "outputId": "394cb2fc-a477-4515-cd93-d88692682378"
      },
      "execution_count": 8,
      "outputs": [
        {
          "output_type": "stream",
          "name": "stdout",
          "text": [
            "\n",
            "\n",
            "\u001b[1m> Entering new SimpleSequentialChain chain...\u001b[0m\n",
            "\u001b[36;1m\u001b[1;3m\"Arceus VSTAR 220/159, Giratina VSTAR 212/159, Mewtwo VSTAR 214/159, Pikachu 160/159, Charizard VSTAR 174/159\"\u001b[0m\n",
            "\u001b[33;1m\u001b[1;3mLa expansión \"Crown Zenith\" del Juego de Cartas Coleccionables Pokémon se lanzó el 20 de enero de 2023. Esta colección especial es parte de la serie Espada y Escudo y se destaca por incluir cartas con ilustraciones alternativas y versiones especiales de Pokémon populares. La colección consta de 230 cartas, incluyendo cartas secretas y variantes especiales.\n",
            "\n",
            "A continuación, se presenta una tabla con las cinco cartas más destacadas de esta expansión, junto con su valor de mercado estimado en dólares estadounidenses y la probabilidad aproximada de obtenerlas en un sobre (pull rate):\n",
            "\n",
            "| Carta               | Número  | Valor de Mercado (USD) | Pull Rate Estimado  |\n",
            "|---------------------|---------|------------------------|---------------------|\n",
            "| Arceus VSTAR        | 220/159 | $45.00                 | 1 en 100 sobres     |\n",
            "| Giratina VSTAR      | 212/159 | $75.00                 | 1 en 150 sobres     |\n",
            "| Mewtwo VSTAR        | 214/159 | $60.00                 | 1 en 120 sobres     |\n",
            "| Pikachu             | 160/159 | $30.00                 | 1 en 80 sobres      |\n",
            "| Charizard VSTAR     | 174/159 | $50.00                 | 1 en 90 sobres      |\n",
            "\n",
            "Estos valores y probabilidades son aproximados y pueden variar con el tiempo debido a la fluctuación del mercado y la disponibilidad de las cartas.\u001b[0m\n",
            "\n",
            "\u001b[1m> Finished chain.\u001b[0m\n"
          ]
        }
      ]
    }
  ]
}
